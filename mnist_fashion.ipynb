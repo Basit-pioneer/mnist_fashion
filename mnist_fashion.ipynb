{
  "nbformat": 4,
  "nbformat_minor": 0,
  "metadata": {
    "colab": {
      "name": "Untitled8.ipynb",
      "provenance": [],
      "authorship_tag": "ABX9TyMTC7RacvZtwXXnFs9Edr3J",
      "include_colab_link": true
    },
    "kernelspec": {
      "name": "python3",
      "display_name": "Python 3"
    },
    "language_info": {
      "name": "python"
    }
  },
  "cells": [
    {
      "cell_type": "markdown",
      "metadata": {
        "id": "view-in-github",
        "colab_type": "text"
      },
      "source": [
        "<a href=\"https://colab.research.google.com/github/Basit-pioneer/mnist_fashion/blob/main/mnist_fashion.ipynb\" target=\"_parent\"><img src=\"https://colab.research.google.com/assets/colab-badge.svg\" alt=\"Open In Colab\"/></a>"
      ]
    },
    {
      "cell_type": "code",
      "metadata": {
        "id": "RHvTyGsm17m7"
      },
      "source": [
        "import tensorflow as tf\n",
        "mnist = tf.keras.datasets.fashion_mnist\n",
        "(training_images,training_labels),(test_images,test_labels)=mnist.load_data()\n",
        "training_images = training_images/255\n",
        "test_images = test_images/255\n"
      ],
      "execution_count": 12,
      "outputs": []
    },
    {
      "cell_type": "code",
      "metadata": {
        "id": "Iio9QArr5N-6"
      },
      "source": [
        "model = tf.keras.models.Sequential([tf.keras.layers.Flatten(),\n",
        "                                    tf.keras.layers.Dense(512,activation=tf.nn.relu),\n",
        "                                    tf.keras.layers.Dense(10,activation=tf.nn.softmax)])"
      ],
      "execution_count": 27,
      "outputs": []
    },
    {
      "cell_type": "code",
      "metadata": {
        "id": "Ld1uKyI47TeH"
      },
      "source": [
        "model.compile(optimizer=tf.keras.optimizers.Adam(),\n",
        "              loss=\"sparse_categorical_crossentropy\",\n",
        "              metrics=[\"accuracy\"])"
      ],
      "execution_count": 28,
      "outputs": []
    },
    {
      "cell_type": "code",
      "metadata": {
        "colab": {
          "base_uri": "https://localhost:8080/"
        },
        "id": "leYBBl868AsO",
        "outputId": "4f27a05d-e43f-4394-cfb1-1d70bf40e931"
      },
      "source": [
        "model.fit(training_images,training_labels,epochs=30,batch_size=128)"
      ],
      "execution_count": 29,
      "outputs": [
        {
          "output_type": "stream",
          "text": [
            "Epoch 1/30\n",
            "469/469 [==============================] - 4s 9ms/step - loss: 0.6515 - accuracy: 0.7694\n",
            "Epoch 2/30\n",
            "469/469 [==============================] - 4s 9ms/step - loss: 0.3830 - accuracy: 0.8640\n",
            "Epoch 3/30\n",
            "469/469 [==============================] - 4s 8ms/step - loss: 0.3480 - accuracy: 0.8738\n",
            "Epoch 4/30\n",
            "469/469 [==============================] - 4s 9ms/step - loss: 0.3068 - accuracy: 0.8899\n",
            "Epoch 5/30\n",
            "469/469 [==============================] - 4s 8ms/step - loss: 0.2878 - accuracy: 0.8928\n",
            "Epoch 6/30\n",
            "469/469 [==============================] - 4s 8ms/step - loss: 0.2725 - accuracy: 0.8998\n",
            "Epoch 7/30\n",
            "469/469 [==============================] - 4s 9ms/step - loss: 0.2568 - accuracy: 0.9050\n",
            "Epoch 8/30\n",
            "469/469 [==============================] - 4s 9ms/step - loss: 0.2485 - accuracy: 0.9089\n",
            "Epoch 9/30\n",
            "469/469 [==============================] - 4s 8ms/step - loss: 0.2387 - accuracy: 0.9133\n",
            "Epoch 10/30\n",
            "469/469 [==============================] - 4s 9ms/step - loss: 0.2273 - accuracy: 0.9152\n",
            "Epoch 11/30\n",
            "469/469 [==============================] - 4s 8ms/step - loss: 0.2158 - accuracy: 0.9207\n",
            "Epoch 12/30\n",
            "469/469 [==============================] - 4s 9ms/step - loss: 0.2099 - accuracy: 0.9218\n",
            "Epoch 13/30\n",
            "469/469 [==============================] - 4s 9ms/step - loss: 0.2019 - accuracy: 0.9248\n",
            "Epoch 14/30\n",
            "469/469 [==============================] - 4s 8ms/step - loss: 0.1893 - accuracy: 0.9303\n",
            "Epoch 15/30\n",
            "469/469 [==============================] - 4s 9ms/step - loss: 0.1862 - accuracy: 0.9307\n",
            "Epoch 16/30\n",
            "469/469 [==============================] - 4s 8ms/step - loss: 0.1763 - accuracy: 0.9357\n",
            "Epoch 17/30\n",
            "469/469 [==============================] - 4s 9ms/step - loss: 0.1788 - accuracy: 0.9331\n",
            "Epoch 18/30\n",
            "469/469 [==============================] - 4s 8ms/step - loss: 0.1684 - accuracy: 0.9370\n",
            "Epoch 19/30\n",
            "469/469 [==============================] - 4s 9ms/step - loss: 0.1619 - accuracy: 0.9392\n",
            "Epoch 20/30\n",
            "469/469 [==============================] - 4s 9ms/step - loss: 0.1551 - accuracy: 0.9437\n",
            "Epoch 21/30\n",
            "469/469 [==============================] - 4s 9ms/step - loss: 0.1466 - accuracy: 0.9447\n",
            "Epoch 22/30\n",
            "469/469 [==============================] - 4s 8ms/step - loss: 0.1450 - accuracy: 0.9455\n",
            "Epoch 23/30\n",
            "469/469 [==============================] - 4s 9ms/step - loss: 0.1410 - accuracy: 0.9488\n",
            "Epoch 24/30\n",
            "469/469 [==============================] - 4s 9ms/step - loss: 0.1336 - accuracy: 0.9502\n",
            "Epoch 25/30\n",
            "469/469 [==============================] - 4s 9ms/step - loss: 0.1315 - accuracy: 0.9526\n",
            "Epoch 26/30\n",
            "469/469 [==============================] - 4s 9ms/step - loss: 0.1327 - accuracy: 0.9502\n",
            "Epoch 27/30\n",
            "469/469 [==============================] - 4s 9ms/step - loss: 0.1246 - accuracy: 0.9531\n",
            "Epoch 28/30\n",
            "469/469 [==============================] - 4s 8ms/step - loss: 0.1201 - accuracy: 0.9549\n",
            "Epoch 29/30\n",
            "469/469 [==============================] - 4s 8ms/step - loss: 0.1156 - accuracy: 0.9576\n",
            "Epoch 30/30\n",
            "469/469 [==============================] - 4s 9ms/step - loss: 0.1116 - accuracy: 0.9591\n"
          ],
          "name": "stdout"
        },
        {
          "output_type": "execute_result",
          "data": {
            "text/plain": [
              "<tensorflow.python.keras.callbacks.History at 0x7feee38945d0>"
            ]
          },
          "metadata": {
            "tags": []
          },
          "execution_count": 29
        }
      ]
    },
    {
      "cell_type": "code",
      "metadata": {
        "colab": {
          "base_uri": "https://localhost:8080/"
        },
        "id": "ttHDIdW089lc",
        "outputId": "69c115da-45c4-43a6-de09-8f77e909ca69"
      },
      "source": [
        "model.evaluate(test_images,test_labels)"
      ],
      "execution_count": 30,
      "outputs": [
        {
          "output_type": "stream",
          "text": [
            "313/313 [==============================] - 1s 3ms/step - loss: 0.3647 - accuracy: 0.8959\n"
          ],
          "name": "stdout"
        },
        {
          "output_type": "execute_result",
          "data": {
            "text/plain": [
              "[0.364703893661499, 0.8959000110626221]"
            ]
          },
          "metadata": {
            "tags": []
          },
          "execution_count": 30
        }
      ]
    },
    {
      "cell_type": "code",
      "metadata": {
        "id": "9bdgFXH__KYq"
      },
      "source": [
        ""
      ],
      "execution_count": null,
      "outputs": []
    }
  ]
}